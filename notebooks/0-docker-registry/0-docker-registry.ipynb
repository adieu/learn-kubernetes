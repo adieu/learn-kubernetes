{
 "cells": [
  {
   "cell_type": "markdown",
   "metadata": {},
   "source": [
    "# 部署镜像仓库\n",
    "\n",
    "在后面的案例中，我们将会向Kubernetes集群中部署软件。由于生成软件镜像的Docker环境和集群使用的Docker环境并不相同，我们需要通过镜像仓库完成中转。接下来，让我们在集群中部署Docker官方开源的[镜像仓库系统](https://github.com/docker/distribution)，用于后续的案例。\n",
    "\n",
    "## 部署ReplicationController\n",
    "\n",
    "首先让我们看看rc的内容"
   ]
  },
  {
   "cell_type": "code",
   "execution_count": null,
   "metadata": {
    "collapsed": true
   },
   "outputs": [],
   "source": [
    "!cat registry-rc.yaml"
   ]
  },
  {
   "cell_type": "markdown",
   "metadata": {},
   "source": [
    "接下来使用kubectl创建rc"
   ]
  },
  {
   "cell_type": "code",
   "execution_count": null,
   "metadata": {
    "collapsed": true
   },
   "outputs": [],
   "source": [
    "!kubectl create -f registry-rc.yaml"
   ]
  },
  {
   "cell_type": "markdown",
   "metadata": {},
   "source": [
    "检查部署顺利完成"
   ]
  },
  {
   "cell_type": "code",
   "execution_count": null,
   "metadata": {
    "collapsed": true
   },
   "outputs": [],
   "source": [
    "!kubectl get pods"
   ]
  },
  {
   "cell_type": "markdown",
   "metadata": {},
   "source": [
    "## 部署Service\n",
    "\n",
    "接下来让我们将刚刚部署的rc以服务的形式暴露出来。先来看看service定义"
   ]
  },
  {
   "cell_type": "code",
   "execution_count": null,
   "metadata": {
    "collapsed": true
   },
   "outputs": [],
   "source": [
    "!cat registry-svc.yaml"
   ]
  },
  {
   "cell_type": "markdown",
   "metadata": {},
   "source": [
    "使用kubectl创建service"
   ]
  },
  {
   "cell_type": "code",
   "execution_count": null,
   "metadata": {
    "collapsed": true
   },
   "outputs": [],
   "source": [
    "!kubectl create -f registry-svc.yaml"
   ]
  },
  {
   "cell_type": "markdown",
   "metadata": {},
   "source": [
    "检查服务是否已经可以被正常访问"
   ]
  },
  {
   "cell_type": "code",
   "execution_count": null,
   "metadata": {
    "collapsed": true
   },
   "outputs": [],
   "source": [
    "!curl -I http://registry:5000"
   ]
  },
  {
   "cell_type": "markdown",
   "metadata": {},
   "source": [
    "## 总结\n",
    "\n",
    "至此，镜像仓库已经顺利的被部署到了集群当中。需要指出的是，这里部署的镜像仓库并没有使用SSL，所以需要配置集群的Docker，增加 `DOCKER_OPTS=\"--insecure-registry=registry:5000\"` 这个运行参数。同时还需要将服务ip地址增加到主机的`/etc/hosts`文件当中，这样才能顺利的在Kubernetes集群中使用这个镜像仓库。"
   ]
  }
 ],
 "metadata": {
  "kernelspec": {
   "display_name": "Python 3",
   "language": "python",
   "name": "python3"
  },
  "language_info": {
   "codemirror_mode": {
    "name": "ipython",
    "version": 3
   },
   "file_extension": ".py",
   "mimetype": "text/x-python",
   "name": "python",
   "nbconvert_exporter": "python",
   "pygments_lexer": "ipython3",
   "version": "3.4.3"
  }
 },
 "nbformat": 4,
 "nbformat_minor": 0
}
